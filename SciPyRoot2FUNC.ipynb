{
  "nbformat": 4,
  "nbformat_minor": 0,
  "metadata": {
    "colab": {
      "name": "twofunc.ipynb",
      "provenance": [],
      "authorship_tag": "ABX9TyOdQxf3aGzQXAtfwo66hcVH",
      "include_colab_link": true
    },
    "kernelspec": {
      "name": "python3",
      "display_name": "Python 3"
    }
  },
  "cells": [
    {
      "cell_type": "markdown",
      "metadata": {
        "id": "view-in-github",
        "colab_type": "text"
      },
      "source": [
        "<a href=\"https://colab.research.google.com/github/wqubit/py3fun/blob/main/SciPyRoot2FUNC.ipynb\" target=\"_parent\"><img src=\"https://colab.research.google.com/assets/colab-badge.svg\" alt=\"Open In Colab\"/></a>"
      ]
    },
    {
      "cell_type": "code",
      "metadata": {
        "id": "I97se8yngY1O"
      },
      "source": [
        ""
      ],
      "execution_count": null,
      "outputs": []
    },
    {
      "cell_type": "markdown",
      "metadata": {
        "id": "lyHmwLe8gzAs"
      },
      "source": [
        "f1(x) = x^2 - 5x +7;\n",
        "f2(x) = 2x+1\n"
      ]
    },
    {
      "cell_type": "code",
      "metadata": {
        "id": "TSLwCwOphAJA"
      },
      "source": [
        "import numpy as np"
      ],
      "execution_count": null,
      "outputs": []
    },
    {
      "cell_type": "code",
      "metadata": {
        "id": "lW6t_OKnhIOw"
      },
      "source": [
        "import matplotlib.pyplot as plt"
      ],
      "execution_count": null,
      "outputs": []
    },
    {
      "cell_type": "code",
      "metadata": {
        "id": "JK1NRm6JhRUK"
      },
      "source": [
        "from scipy.optimize import root"
      ],
      "execution_count": null,
      "outputs": []
    },
    {
      "cell_type": "code",
      "metadata": {
        "id": "KY2ImQYVhWCX"
      },
      "source": [
        "def f1(x):\n",
        "    return (x**2-5*x+7);"
      ],
      "execution_count": null,
      "outputs": []
    },
    {
      "cell_type": "code",
      "metadata": {
        "id": "cXNj7wTyhnio"
      },
      "source": [
        "def f2(x):\n",
        "    return (2*x+1);"
      ],
      "execution_count": null,
      "outputs": []
    },
    {
      "cell_type": "code",
      "metadata": {
        "id": "o0WtGFCZhzwy"
      },
      "source": [
        "# get the root\n",
        "r1 = root(lambda x:f1(x)-f2(x), -2);\n",
        "r2 = root(lambda x:f1(x)-f2(x), 5);"
      ],
      "execution_count": null,
      "outputs": []
    },
    {
      "cell_type": "code",
      "metadata": {
        "id": "qOKyDFV-pVxf",
        "outputId": "cd29a5bd-64ae-46a4-cec4-7b1e6d992e79",
        "colab": {
          "base_uri": "https://localhost:8080/"
        }
      },
      "source": [
        "print(\"x1 = %6.2f, y1 = %6.2f\" % (r1.x, f1(r1.x)));\n",
        "print(\"x2 = %6.2f, y2 = %6.2f\" % (r2.x, f2(r2.x)));"
      ],
      "execution_count": null,
      "outputs": [
        {
          "output_type": "stream",
          "text": [
            "x1 =   1.00, y1 =   3.00\n",
            "x2 =   6.00, y2 =  13.00\n"
          ],
          "name": "stdout"
        }
      ]
    },
    {
      "cell_type": "code",
      "metadata": {
        "id": "CxoWH3LLp1Ha",
        "outputId": "b5b053d1-6fd7-43c1-f7a2-5b8ce70a7ce5",
        "colab": {
          "base_uri": "https://localhost:8080/",
          "height": 483
        }
      },
      "source": [
        "# make plots \n",
        "x1 = np.linspace(0, 10, 50);\n",
        "y1 = x1**2-5*x1+7;\n",
        "plt.plot(x1, y1, 'b-', label=r'$x^2 -5x+7$')\n",
        "x2 = np.linspace(0, 10, 50);\n",
        "y2 = x2*2 +1;\n",
        "plt.plot(x2, y2, 'r:', label='2x+1');\n",
        "plt.legend(loc='best');\n",
        "#plt.rcParams['figure.figsize'] = [12, 8]\n",
        "plt.show()"
      ],
      "execution_count": null,
      "outputs": [
        {
          "output_type": "display_data",
          "data": {
            "image/png": "[encoded data removed]",
            "text/plain": [
              "<Figure size 864x576 with 1 Axes>"
            ]
          },
          "metadata": {
            "tags": [],
            "needs_background": "light"
          }
        }
      ]
    },
    {
      "cell_type": "code",
      "metadata": {
        "id": "nd5yljR89uUL"
      },
      "source": [
        ""
      ],
      "execution_count": null,
      "outputs": []
    }
  ]
}